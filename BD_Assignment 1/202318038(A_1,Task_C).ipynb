{
 "cells": [
  {
   "cell_type": "markdown",
   "metadata": {},
   "source": [
    "<font size=\"6\">Name : Digesh Patel</font><br>\n",
    "<font size=\"6\">ID : 202318038</font><br>\n",
    "<font size=\"6\">Msc Data Science Sem 2</font><br>\n",
    "<font size=\"6\">Big Data Processing</font><br>"
   ]
  },
  {
   "cell_type": "markdown",
   "metadata": {},
   "source": [
    "**<font size=\"7\">Assignment 1 :Task - C</font><br>**"
   ]
  },
  {
   "cell_type": "markdown",
   "metadata": {},
   "source": [
    "**<font size=\"5\">In this part of the assignment, you will learn how to construct a dataset by scraping a\n",
    "website online. Utilize BeautifulSoup or any other suitable scraping library to extract all the\n",
    "details of Amazon products and compile a dataset. </font><br>**"
   ]
  },
  {
   "cell_type": "code",
   "execution_count": 3,
   "metadata": {},
   "outputs": [],
   "source": [
    "import pandas as pd\n",
    "import requests\n",
    "from bs4 import BeautifulSoup\n",
    "import numpy as np"
   ]
  },
  {
   "cell_type": "code",
   "execution_count": 4,
   "metadata": {},
   "outputs": [],
   "source": [
    "url=f\"https://www.flipkart.com/laptops/pr?sid=6bo%2Cb5g&otracker=categorytree&page=1\"\n",
    "page=requests.get(url).text\n",
    "soup=BeautifulSoup(page,\"lxml\")\n",
    "laptops=soup.find_all(\"div\",class_=\"_3pLy-c row\")"
   ]
  },
  {
   "cell_type": "code",
   "execution_count": 5,
   "metadata": {},
   "outputs": [
    {
     "data": {
      "text/plain": [
       "'ASUS'"
      ]
     },
     "execution_count": 5,
     "metadata": {},
     "output_type": "execute_result"
    }
   ],
   "source": [
    "def get_company(i):\n",
    "    try:\n",
    "        value=i.find_all(\"div\",class_=\"_4rR01T\")[0].text.split(\" \")[0]\n",
    "    except:\n",
    "        value=\"NaN\"    \n",
    "    return value   \n",
    " \n",
    "get_company(laptops[5])"
   ]
  },
  {
   "cell_type": "code",
   "execution_count": 6,
   "metadata": {},
   "outputs": [
    {
     "data": {
      "text/plain": [
       "'Intel Core i3 Processor (11th Gen)'"
      ]
     },
     "execution_count": 6,
     "metadata": {},
     "output_type": "execute_result"
    }
   ],
   "source": [
    "def get_processor(i):\n",
    "    try:\n",
    "        value=i.find_all(\"li\",class_=\"rgWa7D\")[0].text\n",
    "    except:\n",
    "        value=\"NaN\"    \n",
    "    return value \n",
    "\n",
    "get_processor(laptops[5])\n"
   ]
  },
  {
   "cell_type": "code",
   "execution_count": 7,
   "metadata": {},
   "outputs": [
    {
     "data": {
      "text/plain": [
       "'8'"
      ]
     },
     "execution_count": 7,
     "metadata": {},
     "output_type": "execute_result"
    }
   ],
   "source": [
    "def get_ram_size(i):\n",
    "    try:\n",
    "        value=i.find_all(\"li\",class_=\"rgWa7D\")[1].text.split(\" \")[0]\n",
    "    except:\n",
    "        value=\"NaN\"    \n",
    "    return value \n",
    "\n",
    "get_ram_size(laptops[5])\n"
   ]
  },
  {
   "cell_type": "code",
   "execution_count": 8,
   "metadata": {},
   "outputs": [
    {
     "data": {
      "text/plain": [
       "'DDR4'"
      ]
     },
     "execution_count": 8,
     "metadata": {},
     "output_type": "execute_result"
    }
   ],
   "source": [
    "def get_ram_type(i):\n",
    "    try:\n",
    "        value=i.find_all(\"li\",class_=\"rgWa7D\")[1].text.split(\" \")[2]\n",
    "    except:\n",
    "        value=\"NaN\"    \n",
    "    return value \n",
    "\n",
    "get_ram_type(laptops[5])\n"
   ]
  },
  {
   "cell_type": "code",
   "execution_count": 9,
   "metadata": {},
   "outputs": [
    {
     "data": {
      "text/plain": [
       "'4.3'"
      ]
     },
     "execution_count": 9,
     "metadata": {},
     "output_type": "execute_result"
    }
   ],
   "source": [
    "def get_rating(i):\n",
    "    try:\n",
    "        value=i.find_all(\"div\",class_=\"_3LWZlK\")[0].text\n",
    "    except:\n",
    "        value=\"NaN\"    \n",
    "    return value \n",
    "\n",
    "get_rating(laptops[5])\n"
   ]
  },
  {
   "cell_type": "code",
   "execution_count": 10,
   "metadata": {},
   "outputs": [
    {
     "data": {
      "text/plain": [
       "'7,027'"
      ]
     },
     "execution_count": 10,
     "metadata": {},
     "output_type": "execute_result"
    }
   ],
   "source": [
    "def get_rating_count(i):\n",
    "    try:\n",
    "        value=i.find_all(\"span\",class_=\"_2_R_DZ\")[0].text.split(\" \")[0]\n",
    "    except:\n",
    "        value=\"NaN\"    \n",
    "    return value \n",
    "\n",
    "get_rating_count(laptops[5])"
   ]
  },
  {
   "cell_type": "code",
   "execution_count": 11,
   "metadata": {},
   "outputs": [
    {
     "data": {
      "text/plain": [
       "'64 bit Windows 11 Operating System'"
      ]
     },
     "execution_count": 11,
     "metadata": {},
     "output_type": "execute_result"
    }
   ],
   "source": [
    "def get_os(i):\n",
    "    try:\n",
    "        value=i.find_all(\"li\",class_=\"rgWa7D\")[2].text\n",
    "    except:\n",
    "        value=\"NaN\"    \n",
    "    return value \n",
    "\n",
    "get_os(laptops[5])"
   ]
  },
  {
   "cell_type": "code",
   "execution_count": 12,
   "metadata": {},
   "outputs": [
    {
     "data": {
      "text/plain": [
       "'512 GB SSD'"
      ]
     },
     "execution_count": 12,
     "metadata": {},
     "output_type": "execute_result"
    }
   ],
   "source": [
    "def get_storage(i):\n",
    "    try:\n",
    "        value=i.find_all(\"li\",class_=\"rgWa7D\")[3].text\n",
    "        if i.find_all(\"li\",class_=\"rgWa7D\")[3].text.find(\"GB\")==-1 or i.find_all(\"li\",class_=\"rgWa7D\")[3].text.find(\"RAM\")!=-1:\n",
    "            raise ValueError\n",
    "    except:\n",
    "        value=\"NaN\"    \n",
    "    return value \n",
    "\n",
    "get_storage(laptops[5])"
   ]
  },
  {
   "cell_type": "code",
   "execution_count": 13,
   "metadata": {},
   "outputs": [
    {
     "data": {
      "text/plain": [
       "'39.62 '"
      ]
     },
     "execution_count": 13,
     "metadata": {},
     "output_type": "execute_result"
    }
   ],
   "source": [
    "def get_display_size(i):\n",
    "    try:\n",
    "        value=i.find_all(\"li\",class_=\"rgWa7D\")[4].text.split(\"cm\")[0]\n",
    "    except:\n",
    "        value=\"NaN\"    \n",
    "    return value \n",
    "\n",
    "get_display_size(laptops[5])"
   ]
  },
  {
   "cell_type": "code",
   "execution_count": 16,
   "metadata": {},
   "outputs": [],
   "source": [
    "company=[]\n",
    "processor=[]\n",
    "ram_size=[]\n",
    "ram_type=[]\n",
    "rating=[]\n",
    "rating_count=[]\n",
    "os=[]\n",
    "storage=[]\n",
    "display_size=[]"
   ]
  },
  {
   "cell_type": "code",
   "execution_count": 17,
   "metadata": {},
   "outputs": [],
   "source": [
    "for page in range(1,50):\n",
    "    \n",
    "    url=f\"https://www.flipkart.com/laptops/pr?sid=6bo%2Cb5g&otracker=categorytree&page={page}\"\n",
    "    page=requests.get(url).text\n",
    "    soup=BeautifulSoup(page,\"lxml\")\n",
    "    laptops=soup.find_all(\"div\",class_=\"_3pLy-c row\")\n",
    "\n",
    "    for i in laptops[:-1]:\n",
    "\n",
    "        company.append(get_company(i))\n",
    "        processor.append(get_processor(i))\n",
    "        ram_size.append(get_ram_size(i))\n",
    "        ram_type.append(get_ram_type(i))\n",
    "        rating.append(get_rating(i))\n",
    "        rating_count.append(get_rating_count(i))\n",
    "        os.append(get_os(i))\n",
    "        storage.append(get_storage(i))\n",
    "        display_size.append(get_display_size(i))"
   ]
  },
  {
   "cell_type": "code",
   "execution_count": 19,
   "metadata": {},
   "outputs": [
    {
     "data": {
      "text/html": [
       "<div>\n",
       "<style scoped>\n",
       "    .dataframe tbody tr th:only-of-type {\n",
       "        vertical-align: middle;\n",
       "    }\n",
       "\n",
       "    .dataframe tbody tr th {\n",
       "        vertical-align: top;\n",
       "    }\n",
       "\n",
       "    .dataframe thead th {\n",
       "        text-align: right;\n",
       "    }\n",
       "</style>\n",
       "<table border=\"1\" class=\"dataframe\">\n",
       "  <thead>\n",
       "    <tr style=\"text-align: right;\">\n",
       "      <th></th>\n",
       "      <th>Company</th>\n",
       "      <th>Processor</th>\n",
       "      <th>Ram Size</th>\n",
       "      <th>Ram Type</th>\n",
       "      <th>Rating</th>\n",
       "      <th>Rating Counts</th>\n",
       "      <th>Os</th>\n",
       "      <th>Storage</th>\n",
       "      <th>Display Size</th>\n",
       "    </tr>\n",
       "  </thead>\n",
       "  <tbody>\n",
       "    <tr>\n",
       "      <th>0</th>\n",
       "      <td>Acer</td>\n",
       "      <td>Intel Core Ultra 7 Processor</td>\n",
       "      <td>16</td>\n",
       "      <td>LPDDR5X</td>\n",
       "      <td>NaN</td>\n",
       "      <td>NaN</td>\n",
       "      <td>Windows 11 Operating System</td>\n",
       "      <td>NaN</td>\n",
       "      <td>35.56</td>\n",
       "    </tr>\n",
       "    <tr>\n",
       "      <th>1</th>\n",
       "      <td>ASUS</td>\n",
       "      <td>Intel Core i5 Processor (11th Gen)</td>\n",
       "      <td>8</td>\n",
       "      <td>DDR4</td>\n",
       "      <td>4.3</td>\n",
       "      <td>3,084</td>\n",
       "      <td>Windows 11 Operating System</td>\n",
       "      <td>512 GB SSD</td>\n",
       "      <td>39.62</td>\n",
       "    </tr>\n",
       "    <tr>\n",
       "      <th>2</th>\n",
       "      <td>ASUS</td>\n",
       "      <td>Intel Core i3 Processor (11th Gen)</td>\n",
       "      <td>8</td>\n",
       "      <td>DDR4</td>\n",
       "      <td>4.2</td>\n",
       "      <td>725</td>\n",
       "      <td>Windows 11 Operating System</td>\n",
       "      <td>256 GB SSD</td>\n",
       "      <td>39.62</td>\n",
       "    </tr>\n",
       "    <tr>\n",
       "      <th>3</th>\n",
       "      <td>HP</td>\n",
       "      <td>Intel Core i3 Processor (11th Gen)</td>\n",
       "      <td>8</td>\n",
       "      <td>DDR4</td>\n",
       "      <td>4.3</td>\n",
       "      <td>11,625</td>\n",
       "      <td>64 bit Windows 11 Operating System</td>\n",
       "      <td>512 GB SSD</td>\n",
       "      <td>35.56</td>\n",
       "    </tr>\n",
       "    <tr>\n",
       "      <th>4</th>\n",
       "      <td>Apple</td>\n",
       "      <td>Apple M1 Processor</td>\n",
       "      <td>8</td>\n",
       "      <td>DDR4</td>\n",
       "      <td>4.7</td>\n",
       "      <td>12,979</td>\n",
       "      <td>Mac OS Operating System</td>\n",
       "      <td>256 GB SSD</td>\n",
       "      <td>33.78</td>\n",
       "    </tr>\n",
       "    <tr>\n",
       "      <th>...</th>\n",
       "      <td>...</td>\n",
       "      <td>...</td>\n",
       "      <td>...</td>\n",
       "      <td>...</td>\n",
       "      <td>...</td>\n",
       "      <td>...</td>\n",
       "      <td>...</td>\n",
       "      <td>...</td>\n",
       "      <td>...</td>\n",
       "    </tr>\n",
       "    <tr>\n",
       "      <th>915</th>\n",
       "      <td>DELL</td>\n",
       "      <td>Intel Core i7 Processor (12th Gen)</td>\n",
       "      <td>16</td>\n",
       "      <td>LPDDR4</td>\n",
       "      <td>4.3</td>\n",
       "      <td>3</td>\n",
       "      <td>Windows 11 Operating System</td>\n",
       "      <td>512 GB SSD</td>\n",
       "      <td>33.78</td>\n",
       "    </tr>\n",
       "    <tr>\n",
       "      <th>916</th>\n",
       "      <td>HP</td>\n",
       "      <td>Intel Core i5 Processor (13th Gen)</td>\n",
       "      <td>8</td>\n",
       "      <td>DDR4</td>\n",
       "      <td>4.2</td>\n",
       "      <td>254</td>\n",
       "      <td>64 bit Windows 11 Operating System</td>\n",
       "      <td>NaN</td>\n",
       "      <td>39.62</td>\n",
       "    </tr>\n",
       "    <tr>\n",
       "      <th>917</th>\n",
       "      <td>Acer</td>\n",
       "      <td>Intel Core i5 Processor (13th Gen)</td>\n",
       "      <td>16</td>\n",
       "      <td>DDR5</td>\n",
       "      <td>NaN</td>\n",
       "      <td>NaN</td>\n",
       "      <td>64 bit Windows 11 Operating System</td>\n",
       "      <td>512 GB SSD</td>\n",
       "      <td>39.62</td>\n",
       "    </tr>\n",
       "    <tr>\n",
       "      <th>918</th>\n",
       "      <td>WINGS</td>\n",
       "      <td>Intel Core i3 Processor (11th Gen)</td>\n",
       "      <td>8</td>\n",
       "      <td>DDR4</td>\n",
       "      <td>4.2</td>\n",
       "      <td>390</td>\n",
       "      <td>Windows 11 Operating System</td>\n",
       "      <td>256 GB SSD</td>\n",
       "      <td>39.62</td>\n",
       "    </tr>\n",
       "    <tr>\n",
       "      <th>919</th>\n",
       "      <td>HP</td>\n",
       "      <td>AMD Ryzen 5 Quad Core Processor</td>\n",
       "      <td>8</td>\n",
       "      <td>DDR4</td>\n",
       "      <td>4.4</td>\n",
       "      <td>2,244</td>\n",
       "      <td>64 bit Windows 10 Operating System</td>\n",
       "      <td>512 GB SSD</td>\n",
       "      <td>39.62</td>\n",
       "    </tr>\n",
       "  </tbody>\n",
       "</table>\n",
       "<p>920 rows × 9 columns</p>\n",
       "</div>"
      ],
      "text/plain": [
       "    Company                           Processor Ram Size Ram Type Rating  \\\n",
       "0      Acer        Intel Core Ultra 7 Processor       16  LPDDR5X    NaN   \n",
       "1      ASUS  Intel Core i5 Processor (11th Gen)        8     DDR4    4.3   \n",
       "2      ASUS  Intel Core i3 Processor (11th Gen)        8     DDR4    4.2   \n",
       "3        HP  Intel Core i3 Processor (11th Gen)        8     DDR4    4.3   \n",
       "4     Apple                  Apple M1 Processor        8     DDR4    4.7   \n",
       "..      ...                                 ...      ...      ...    ...   \n",
       "915    DELL  Intel Core i7 Processor (12th Gen)       16   LPDDR4    4.3   \n",
       "916      HP  Intel Core i5 Processor (13th Gen)        8     DDR4    4.2   \n",
       "917    Acer  Intel Core i5 Processor (13th Gen)       16     DDR5    NaN   \n",
       "918   WINGS  Intel Core i3 Processor (11th Gen)        8     DDR4    4.2   \n",
       "919      HP     AMD Ryzen 5 Quad Core Processor        8     DDR4    4.4   \n",
       "\n",
       "    Rating Counts                                  Os     Storage Display Size  \n",
       "0             NaN         Windows 11 Operating System         NaN       35.56   \n",
       "1           3,084         Windows 11 Operating System  512 GB SSD       39.62   \n",
       "2             725         Windows 11 Operating System  256 GB SSD       39.62   \n",
       "3          11,625  64 bit Windows 11 Operating System  512 GB SSD       35.56   \n",
       "4          12,979             Mac OS Operating System  256 GB SSD       33.78   \n",
       "..            ...                                 ...         ...          ...  \n",
       "915             3         Windows 11 Operating System  512 GB SSD       33.78   \n",
       "916           254  64 bit Windows 11 Operating System         NaN       39.62   \n",
       "917           NaN  64 bit Windows 11 Operating System  512 GB SSD       39.62   \n",
       "918           390         Windows 11 Operating System  256 GB SSD       39.62   \n",
       "919         2,244  64 bit Windows 10 Operating System  512 GB SSD       39.62   \n",
       "\n",
       "[920 rows x 9 columns]"
      ]
     },
     "execution_count": 19,
     "metadata": {},
     "output_type": "execute_result"
    }
   ],
   "source": [
    "columns={'Company':company,'Processor':processor,'Ram Size':ram_size,'Ram Type':ram_type,'Rating':rating,\"Rating Counts\":rating_count,'Os':os,'Storage':storage,'Display Size':display_size}\n",
    "df=pd.DataFrame(columns)\n",
    "df"
   ]
  },
  {
   "cell_type": "code",
   "execution_count": null,
   "metadata": {},
   "outputs": [],
   "source": [
    "df.to_csv(\"Task-C_laptops.csv\", index=False)"
   ]
  },
  {
   "cell_type": "code",
   "execution_count": null,
   "metadata": {},
   "outputs": [],
   "source": []
  }
 ],
 "metadata": {
  "kernelspec": {
   "display_name": "Python 3",
   "language": "python",
   "name": "python3"
  },
  "language_info": {
   "codemirror_mode": {
    "name": "ipython",
    "version": 3
   },
   "file_extension": ".py",
   "mimetype": "text/x-python",
   "name": "python",
   "nbconvert_exporter": "python",
   "pygments_lexer": "ipython3",
   "version": "3.12.0"
  }
 },
 "nbformat": 4,
 "nbformat_minor": 2
}
