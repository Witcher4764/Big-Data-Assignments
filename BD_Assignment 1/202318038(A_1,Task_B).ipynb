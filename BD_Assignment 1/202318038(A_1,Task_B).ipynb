{
  "cells": [
    {
      "cell_type": "markdown",
      "metadata": {
        "id": "nkMn0yyHuXSU"
      },
      "source": [
        "<font size=\"6\">Name : Digesh Patel</font><br>\n",
        "<font size=\"6\">ID : 202318038</font><br>\n",
        "<font size=\"6\">Msc Data Science Sem 2</font><br>\n",
        "<font size=\"6\">Big Data Processing</font><br>"
      ]
    },
    {
      "cell_type": "markdown",
      "metadata": {
        "id": "jsJvQTgxwCsu"
      },
      "source": [
        "**<font size=\"7\">Assignment 1 :Task - B</font><br>**"
      ]
    },
    {
      "cell_type": "markdown",
      "metadata": {
        "id": "G563MVyJwojk"
      },
      "source": [
        "**<font size=\"5\">This segment of the assignment is designed to enhance your understanding of the API\n",
        "call process and dataset creation. Utilize any freely available API endpoint on Rapidapi to\n",
        "generate a dataset.</font><br>**"
      ]
    },
    {
      "cell_type": "code",
      "execution_count": 58,
      "metadata": {
        "id": "il4IB2wzyvES"
      },
      "outputs": [],
      "source": [
        "import requests\n",
        "import numpy as np\n",
        "import pandas as pd\n",
        "import warnings\n",
        "warnings.simplefilter(action='ignore', category=FutureWarning)"
      ]
    },
    {
      "cell_type": "code",
      "execution_count": null,
      "metadata": {
        "id": "vbeL7jHn8B_j"
      },
      "outputs": [],
      "source": [
        "headers = {\n",
        "\t\"X-RapidAPI-Key\": \"3d01d6c899mshc4efe64b9e0e4adp1a666ejsna9aa0e161a76\",\n",
        "\t\"X-RapidAPI-Host\": \"imdb8.p.rapidapi.com\"\n",
        "}"
      ]
    },
    {
      "cell_type": "markdown",
      "metadata": {
        "id": "fxszqpCB8VqW"
      },
      "source": [
        "<font size=\"5\">**GET** title/v2/get-popular-movies-by-genre</font>\n",
        "\n",
        "<font size=\"4\">**Get popular movies by genre**</font>\n",
        "\n",
        "<font size=\"4\">Required Parameters : Genre (adventure)</font><br>\n",
        "<font size=\"4\">Optional Parameters : Limit (200)</font>\n",
        "\n",
        "<font size=\"4\">Output : movie ids (/title/tt6166392/)</font>"
      ]
    },
    {
      "cell_type": "code",
      "execution_count": 64,
      "metadata": {
        "colab": {
          "base_uri": "https://localhost:8080/"
        },
        "id": "bfEEqRm1u5W6",
        "outputId": "059b9cbb-e2b2-4582-81a3-e900db2db92c"
      },
      "outputs": [
        {
          "data": {
            "text/plain": [
              "['/title/tt6166392/',\n",
              " '/title/tt16277242/',\n",
              " '/title/tt4460800/',\n",
              " '/title/tt13818368/',\n",
              " '/title/tt1517268/']"
            ]
          },
          "execution_count": 64,
          "metadata": {},
          "output_type": "execute_result"
        }
      ],
      "source": [
        "url = \"https://imdb8.p.rapidapi.com/title/v2/get-popular-movies-by-genre\"\n",
        "querystring = {\"genre\":\"adventure\",\"limit\":\"200\"}\n",
        "response = requests.get(url, headers=headers, params=querystring)\n",
        "movie_ids=response.json()\n",
        "movie_ids[:5]"
      ]
    },
    {
      "cell_type": "markdown",
      "metadata": {
        "id": "RY7cFIlYBucF"
      },
      "source": [
        "<font size=\"5\">**GET** title/v2/get-overview-details</font>\n",
        "\n",
        "<font size=\"4\">**Get overview information of the title**</font>\n",
        "\n",
        "<font size=\"4\">Required Parameters : movie id (tt1517268)</font><br>\n",
        "<font size=\"4\">Optional Parameters : currentCountry (US)</font>\n",
        "\n",
        "<font size=\"4\">Output : information of the title </font>"
      ]
    },
    {
      "cell_type": "code",
      "execution_count": 70,
      "metadata": {
        "id": "nYDcqFD0u5UY"
      },
      "outputs": [],
      "source": [
        "url = \"https://imdb8.p.rapidapi.com/title/get-overview-details\"\n",
        "querystring = {\"tconst\":\"tt1517268\",\"currentCountry\":\"US\"}\n",
        "response = requests.get(url, headers=headers, params=querystring)\n",
        "overview=response.json()"
      ]
    },
    {
      "cell_type": "code",
      "execution_count": 71,
      "metadata": {
        "colab": {
          "base_uri": "https://localhost:8080/"
        },
        "id": "Qs1anyn6A8IQ",
        "outputId": "da2c514d-4c15-4fdd-8a30-8a0c573c09f3"
      },
      "outputs": [
        {
          "data": {
            "text/plain": [
              "dict_keys(['id', 'title', 'certificates', 'ratings', 'genres', 'releaseDate', 'plotOutline', 'plotSummary'])"
            ]
          },
          "execution_count": 71,
          "metadata": {},
          "output_type": "execute_result"
        }
      ],
      "source": [
        "overview.keys()"
      ]
    },
    {
      "cell_type": "code",
      "execution_count": 72,
      "metadata": {
        "colab": {
          "base_uri": "https://localhost:8080/"
        },
        "id": "jx9qvdZju5SB",
        "outputId": "5da3f3cd-677c-480c-a654-3262504257c1"
      },
      "outputs": [
        {
          "data": {
            "text/plain": [
              "{'id': '/title/tt1517268/',\n",
              " 'title': {'@type': 'imdb.api.title.title',\n",
              "  'disambiguation': 'I',\n",
              "  'id': '/title/tt1517268/',\n",
              "  'image': {'height': 2814,\n",
              "   'id': '/title/tt1517268/images/rm431105281',\n",
              "   'url': 'https://m.media-amazon.com/images/M/MV5BNjU3N2QxNzYtMjk1NC00MTc4LTk1NTQtMmUxNTljM2I0NDA5XkEyXkFqcGdeQXVyODE5NzE3OTE@._V1_.jpg',\n",
              "   'width': 1900},\n",
              "  'runningTimeInMinutes': 114,\n",
              "  'title': 'Barbie',\n",
              "  'titleType': 'movie',\n",
              "  'year': 2023},\n",
              " 'certificates': {'US': [{'certificate': 'PG-13',\n",
              "    'certificateNumber': 54383,\n",
              "    'ratingReason': 'Rated PG-13 for suggestive references and brief language.',\n",
              "    'ratingsBody': 'MPAA',\n",
              "    'country': 'US'}]},\n",
              " 'ratings': {'canRate': True,\n",
              "  'rating': 6.9,\n",
              "  'ratingCount': 479449,\n",
              "  'topRank': 2798},\n",
              " 'genres': ['Adventure', 'Comedy', 'Fantasy'],\n",
              " 'releaseDate': '2023-07-21',\n",
              " 'plotOutline': {'id': '/title/tt1517268/plot/po6848414',\n",
              "  'text': 'Barbie and Ken are having the time of their lives in the colorful and seemingly perfect world of Barbie Land. However, when they get a chance to go to the real world, they soon discover the joys and perils of living among humans.'},\n",
              " 'plotSummary': {'author': 'Huggo',\n",
              "  'id': '/title/tt1517268/plot/ps7627202',\n",
              "  'text': 'Barbie the Doll lives in bliss in the matriarchal society of Barbieland feeling good about her role in the world in the various iterations of Barbies over the years showing girls that play with her that they can be whatever and whoever they want. On the flip side, Ken, who also lives in Barbieland, is unnoticed except in relation to Barbie, which is however one step above any other doll in Barbieland, such as Allan. One day, Stereotypical Barbie begins to have feelings which she\\'s never experienced which leads to her world seemingly falling apart. Weird Barbie determines that there is something happening in the real world with someone playing with her being unhappy leading to Stereotypical Barbie reluctantly heading to the real world to rectify what is happening with that person, she first needing to find this person. Much to Barbie\\'s chagrin, the original Ken, Beach Ken, tags along with her to the real world in he needing to survive in her presence. Beyond their mission to find this person, Barbie and Ken will find the real world unlike anything they know in Barbieland, especially in it being a male dominated society. While Barbie still has to find out what\\'s going on that made her come to the real world, Ken is finding a newfound control which he wants to bring back to Barbieland. If he is able to do so, the role of Barbie in the real world may be forever changed. On top of everything, executives at Mattel, primarily white men, discover that a \"real life\" Barbie and Ken doll have infiltrated the real world, their mission to capture the pair, but especially Barbie, to put them/her back in their/her place, namely in a manufacturer\\'s sealed box.'}}"
            ]
          },
          "execution_count": 72,
          "metadata": {},
          "output_type": "execute_result"
        }
      ],
      "source": [
        "overview"
      ]
    },
    {
      "cell_type": "code",
      "execution_count": 52,
      "metadata": {
        "id": "E5E8wGIfHNCL"
      },
      "outputs": [],
      "source": [
        "# Create an empty DataFrame with columns\n",
        "columns = ['id', 'title', 'runningTimeInMinutes', 'releaseDate', 'certificate', 'rating', 'ratingcount', 'text']\n",
        "df = pd.DataFrame(columns=columns)"
      ]
    },
    {
      "cell_type": "markdown",
      "metadata": {
        "id": "lrDr7PvCI84W"
      },
      "source": [
        "**getting all movie's information**"
      ]
    },
    {
      "cell_type": "code",
      "execution_count": 59,
      "metadata": {
        "colab": {
          "base_uri": "https://localhost:8080/"
        },
        "id": "zRGkXUL7HRGZ",
        "outputId": "eca97449-87d7-46c0-c914-caf1c8028337"
      },
      "outputs": [
        {
          "name": "stdout",
          "output_type": "stream",
          "text": [
            "KeyError while processing movie tt13818368: 'certificates'\n",
            "KeyError while processing movie tt13287846: 'id'\n",
            "KeyError while processing movie tt11097384: 'rating'\n",
            "KeyError while processing movie tt11057302: 'rating'\n",
            "KeyError while processing movie tt15433956: 'certificates'\n",
            "KeyError while processing movie tt15239678: 'rating'\n",
            "KeyError while processing movie tt9218128: 'runningTimeInMinutes'\n",
            "KeyError while processing movie tt17490712: 'runningTimeInMinutes'\n",
            "KeyError while processing movie tt14539740: 'runningTimeInMinutes'\n",
            "KeyError while processing movie tt12037194: 'runningTimeInMinutes'\n",
            "KeyError while processing movie tt21235248: 'runningTimeInMinutes'\n",
            "KeyError while processing movie tt4978420: 'runningTimeInMinutes'\n",
            "KeyError while processing movie tt21692408: 'rating'\n",
            "KeyError while processing movie tt26743210: 'runningTimeInMinutes'\n",
            "KeyError while processing movie tt14824600: 'certificates'\n",
            "KeyError while processing movie tt18259086: 'runningTimeInMinutes'\n",
            "KeyError while processing movie tt6604188: 'runningTimeInMinutes'\n",
            "KeyError while processing movie tt8790086: 'runningTimeInMinutes'\n",
            "KeyError while processing movie tt18411490: 'certificates'\n",
            "KeyError while processing movie tt22022452: 'runningTimeInMinutes'\n",
            "KeyError while processing movie tt3566834: 'runningTimeInMinutes'\n",
            "KeyError while processing movie tt12584954: 'runningTimeInMinutes'\n"
          ]
        }
      ],
      "source": [
        "for id in movie_ids:\n",
        "\n",
        "  #take ids\n",
        "  movie_id=id.split(\"/\")[2]\n",
        "\n",
        "  #api call to get details\n",
        "  url = \"https://imdb8.p.rapidapi.com/title/get-overview-details\"\n",
        "  querystring = {\"tconst\":{movie_id},\"currentCountry\":\"US\"}\n",
        "  response = requests.get(url, headers=headers, params=querystring)\n",
        "  overview=response.json()\n",
        "\n",
        "  #saving one movie's information\n",
        "\n",
        "  try:\n",
        "    movie_tuple = {\n",
        "    'id': overview[\"id\"].split(\"/\")[2],\n",
        "    'title': overview[\"title\"][\"title\"],\n",
        "    'runningTimeInMinutes': overview[\"title\"][\"runningTimeInMinutes\"],\n",
        "    'releaseDate': overview[\"releaseDate\"],\n",
        "    'certificate': overview[\"certificates\"][\"US\"][0][\"certificate\"],\n",
        "    'rating': overview[\"ratings\"][\"rating\"],\n",
        "    'ratingcount': overview[\"ratings\"][\"ratingCount\"],\n",
        "    'text': overview[\"plotOutline\"][\"text\"]\n",
        "    }\n",
        "\n",
        "    #filling nan if value is not found\n",
        "    movie_tuple = {k: v if v != '' else np.nan for k, v in movie_tuple.items()}\n",
        "\n",
        "  except KeyError as e:\n",
        "    print(f\"KeyError while processing movie {movie_id}: {e}\")\n",
        "\n",
        "  #add one movie tuple in the data frame\n",
        "  df = df.append(movie_tuple, ignore_index=True)"
      ]
    },
    {
      "cell_type": "markdown",
      "metadata": {
        "id": "AFDH34ThM7Me"
      },
      "source": [
        "**<font size=\"5\">our dataset is ready</font>**"
      ]
    },
    {
      "cell_type": "code",
      "execution_count": 75,
      "metadata": {
        "colab": {
          "base_uri": "https://localhost:8080/",
          "height": 423
        },
        "id": "BMjhIkebCsnt",
        "outputId": "ac7e8ca0-2b09-48f9-fa1a-c26494284c96"
      },
      "outputs": [
        {
          "data": {
            "text/html": [
              "\n",
              "  <div id=\"df-4371e335-c82e-4a62-acfa-ff416cbb2cf7\" class=\"colab-df-container\">\n",
              "    <div>\n",
              "<style scoped>\n",
              "    .dataframe tbody tr th:only-of-type {\n",
              "        vertical-align: middle;\n",
              "    }\n",
              "\n",
              "    .dataframe tbody tr th {\n",
              "        vertical-align: top;\n",
              "    }\n",
              "\n",
              "    .dataframe thead th {\n",
              "        text-align: right;\n",
              "    }\n",
              "</style>\n",
              "<table border=\"1\" class=\"dataframe\">\n",
              "  <thead>\n",
              "    <tr style=\"text-align: right;\">\n",
              "      <th></th>\n",
              "      <th>id</th>\n",
              "      <th>title</th>\n",
              "      <th>runningTimeInMinutes</th>\n",
              "      <th>releaseDate</th>\n",
              "      <th>certificate</th>\n",
              "      <th>rating</th>\n",
              "      <th>ratingcount</th>\n",
              "      <th>text</th>\n",
              "    </tr>\n",
              "  </thead>\n",
              "  <tbody>\n",
              "    <tr>\n",
              "      <th>0</th>\n",
              "      <td>tt6166392</td>\n",
              "      <td>Wonka</td>\n",
              "      <td>116</td>\n",
              "      <td>2023-12-15</td>\n",
              "      <td>PG</td>\n",
              "      <td>7.2</td>\n",
              "      <td>76547</td>\n",
              "      <td>With dreams of opening a shop in a city renown...</td>\n",
              "    </tr>\n",
              "    <tr>\n",
              "      <th>1</th>\n",
              "      <td>tt16277242</td>\n",
              "      <td>Society of the Snow</td>\n",
              "      <td>144</td>\n",
              "      <td>2024-01-04</td>\n",
              "      <td>R</td>\n",
              "      <td>7.9</td>\n",
              "      <td>77740</td>\n",
              "      <td>The flight of a rugby team crashes on a glacie...</td>\n",
              "    </tr>\n",
              "    <tr>\n",
              "      <th>2</th>\n",
              "      <td>tt4460800</td>\n",
              "      <td>The Kitchen</td>\n",
              "      <td>107</td>\n",
              "      <td>2024-01-19</td>\n",
              "      <td>R</td>\n",
              "      <td>4.9</td>\n",
              "      <td>5046</td>\n",
              "      <td>In a dystopian future London where all social ...</td>\n",
              "    </tr>\n",
              "    <tr>\n",
              "      <th>3</th>\n",
              "      <td>tt6166392</td>\n",
              "      <td>Wonka</td>\n",
              "      <td>116</td>\n",
              "      <td>2023-12-15</td>\n",
              "      <td>PG</td>\n",
              "      <td>7.2</td>\n",
              "      <td>76547</td>\n",
              "      <td>With dreams of opening a shop in a city renown...</td>\n",
              "    </tr>\n",
              "    <tr>\n",
              "      <th>4</th>\n",
              "      <td>tt16277242</td>\n",
              "      <td>Society of the Snow</td>\n",
              "      <td>144</td>\n",
              "      <td>2024-01-04</td>\n",
              "      <td>R</td>\n",
              "      <td>7.9</td>\n",
              "      <td>77740</td>\n",
              "      <td>The flight of a rugby team crashes on a glacie...</td>\n",
              "    </tr>\n",
              "    <tr>\n",
              "      <th>...</th>\n",
              "      <td>...</td>\n",
              "      <td>...</td>\n",
              "      <td>...</td>\n",
              "      <td>...</td>\n",
              "      <td>...</td>\n",
              "      <td>...</td>\n",
              "      <td>...</td>\n",
              "      <td>...</td>\n",
              "    </tr>\n",
              "    <tr>\n",
              "      <th>198</th>\n",
              "      <td>tt6450804</td>\n",
              "      <td>Terminator: Dark Fate</td>\n",
              "      <td>128</td>\n",
              "      <td>2019-11-01</td>\n",
              "      <td>R</td>\n",
              "      <td>6.2</td>\n",
              "      <td>191188</td>\n",
              "      <td>An augmented human and Sarah Connor must stop ...</td>\n",
              "    </tr>\n",
              "    <tr>\n",
              "      <th>199</th>\n",
              "      <td>tt2948356</td>\n",
              "      <td>Zootopia</td>\n",
              "      <td>108</td>\n",
              "      <td>2016-03-04</td>\n",
              "      <td>PG</td>\n",
              "      <td>8.0</td>\n",
              "      <td>538260</td>\n",
              "      <td>In a city of anthropomorphic animals, a rookie...</td>\n",
              "    </tr>\n",
              "    <tr>\n",
              "      <th>200</th>\n",
              "      <td>tt2096673</td>\n",
              "      <td>Inside Out</td>\n",
              "      <td>95</td>\n",
              "      <td>2015-06-19</td>\n",
              "      <td>PG</td>\n",
              "      <td>8.1</td>\n",
              "      <td>772985</td>\n",
              "      <td>After young Riley is uprooted from her Midwest...</td>\n",
              "    </tr>\n",
              "    <tr>\n",
              "      <th>201</th>\n",
              "      <td>tt1229238</td>\n",
              "      <td>Mission: Impossible - Ghost Protocol</td>\n",
              "      <td>132</td>\n",
              "      <td>2011-12-21</td>\n",
              "      <td>PG-13</td>\n",
              "      <td>7.4</td>\n",
              "      <td>524164</td>\n",
              "      <td>The IMF is shut down when it's implicated in t...</td>\n",
              "    </tr>\n",
              "    <tr>\n",
              "      <th>202</th>\n",
              "      <td>tt0091203</td>\n",
              "      <td>Highlander</td>\n",
              "      <td>116</td>\n",
              "      <td>1986-03-07</td>\n",
              "      <td>R</td>\n",
              "      <td>7.0</td>\n",
              "      <td>145763</td>\n",
              "      <td>An immortal Scottish swordsman must confront t...</td>\n",
              "    </tr>\n",
              "  </tbody>\n",
              "</table>\n",
              "<p>203 rows × 8 columns</p>\n",
              "</div>\n",
              "    <div class=\"colab-df-buttons\">\n",
              "\n",
              "  <div class=\"colab-df-container\">\n",
              "    <button class=\"colab-df-convert\" onclick=\"convertToInteractive('df-4371e335-c82e-4a62-acfa-ff416cbb2cf7')\"\n",
              "            title=\"Convert this dataframe to an interactive table.\"\n",
              "            style=\"display:none;\">\n",
              "\n",
              "  <svg xmlns=\"http://www.w3.org/2000/svg\" height=\"24px\" viewBox=\"0 -960 960 960\">\n",
              "    <path d=\"M120-120v-720h720v720H120Zm60-500h600v-160H180v160Zm220 220h160v-160H400v160Zm0 220h160v-160H400v160ZM180-400h160v-160H180v160Zm440 0h160v-160H620v160ZM180-180h160v-160H180v160Zm440 0h160v-160H620v160Z\"/>\n",
              "  </svg>\n",
              "    </button>\n",
              "\n",
              "  <style>\n",
              "    .colab-df-container {\n",
              "      display:flex;\n",
              "      gap: 12px;\n",
              "    }\n",
              "\n",
              "    .colab-df-convert {\n",
              "      background-color: #E8F0FE;\n",
              "      border: none;\n",
              "      border-radius: 50%;\n",
              "      cursor: pointer;\n",
              "      display: none;\n",
              "      fill: #1967D2;\n",
              "      height: 32px;\n",
              "      padding: 0 0 0 0;\n",
              "      width: 32px;\n",
              "    }\n",
              "\n",
              "    .colab-df-convert:hover {\n",
              "      background-color: #E2EBFA;\n",
              "      box-shadow: 0px 1px 2px rgba(60, 64, 67, 0.3), 0px 1px 3px 1px rgba(60, 64, 67, 0.15);\n",
              "      fill: #174EA6;\n",
              "    }\n",
              "\n",
              "    .colab-df-buttons div {\n",
              "      margin-bottom: 4px;\n",
              "    }\n",
              "\n",
              "    [theme=dark] .colab-df-convert {\n",
              "      background-color: #3B4455;\n",
              "      fill: #D2E3FC;\n",
              "    }\n",
              "\n",
              "    [theme=dark] .colab-df-convert:hover {\n",
              "      background-color: #434B5C;\n",
              "      box-shadow: 0px 1px 3px 1px rgba(0, 0, 0, 0.15);\n",
              "      filter: drop-shadow(0px 1px 2px rgba(0, 0, 0, 0.3));\n",
              "      fill: #FFFFFF;\n",
              "    }\n",
              "  </style>\n",
              "\n",
              "    <script>\n",
              "      const buttonEl =\n",
              "        document.querySelector('#df-4371e335-c82e-4a62-acfa-ff416cbb2cf7 button.colab-df-convert');\n",
              "      buttonEl.style.display =\n",
              "        google.colab.kernel.accessAllowed ? 'block' : 'none';\n",
              "\n",
              "      async function convertToInteractive(key) {\n",
              "        const element = document.querySelector('#df-4371e335-c82e-4a62-acfa-ff416cbb2cf7');\n",
              "        const dataTable =\n",
              "          await google.colab.kernel.invokeFunction('convertToInteractive',\n",
              "                                                    [key], {});\n",
              "        if (!dataTable) return;\n",
              "\n",
              "        const docLinkHtml = 'Like what you see? Visit the ' +\n",
              "          '<a target=\"_blank\" href=https://colab.research.google.com/notebooks/data_table.ipynb>data table notebook</a>'\n",
              "          + ' to learn more about interactive tables.';\n",
              "        element.innerHTML = '';\n",
              "        dataTable['output_type'] = 'display_data';\n",
              "        await google.colab.output.renderOutput(dataTable, element);\n",
              "        const docLink = document.createElement('div');\n",
              "        docLink.innerHTML = docLinkHtml;\n",
              "        element.appendChild(docLink);\n",
              "      }\n",
              "    </script>\n",
              "  </div>\n",
              "\n",
              "\n",
              "<div id=\"df-1c9dc22f-288c-4581-ae35-1777ea69e73c\">\n",
              "  <button class=\"colab-df-quickchart\" onclick=\"quickchart('df-1c9dc22f-288c-4581-ae35-1777ea69e73c')\"\n",
              "            title=\"Suggest charts\"\n",
              "            style=\"display:none;\">\n",
              "\n",
              "<svg xmlns=\"http://www.w3.org/2000/svg\" height=\"24px\"viewBox=\"0 0 24 24\"\n",
              "     width=\"24px\">\n",
              "    <g>\n",
              "        <path d=\"M19 3H5c-1.1 0-2 .9-2 2v14c0 1.1.9 2 2 2h14c1.1 0 2-.9 2-2V5c0-1.1-.9-2-2-2zM9 17H7v-7h2v7zm4 0h-2V7h2v10zm4 0h-2v-4h2v4z\"/>\n",
              "    </g>\n",
              "</svg>\n",
              "  </button>\n",
              "\n",
              "<style>\n",
              "  .colab-df-quickchart {\n",
              "      --bg-color: #E8F0FE;\n",
              "      --fill-color: #1967D2;\n",
              "      --hover-bg-color: #E2EBFA;\n",
              "      --hover-fill-color: #174EA6;\n",
              "      --disabled-fill-color: #AAA;\n",
              "      --disabled-bg-color: #DDD;\n",
              "  }\n",
              "\n",
              "  [theme=dark] .colab-df-quickchart {\n",
              "      --bg-color: #3B4455;\n",
              "      --fill-color: #D2E3FC;\n",
              "      --hover-bg-color: #434B5C;\n",
              "      --hover-fill-color: #FFFFFF;\n",
              "      --disabled-bg-color: #3B4455;\n",
              "      --disabled-fill-color: #666;\n",
              "  }\n",
              "\n",
              "  .colab-df-quickchart {\n",
              "    background-color: var(--bg-color);\n",
              "    border: none;\n",
              "    border-radius: 50%;\n",
              "    cursor: pointer;\n",
              "    display: none;\n",
              "    fill: var(--fill-color);\n",
              "    height: 32px;\n",
              "    padding: 0;\n",
              "    width: 32px;\n",
              "  }\n",
              "\n",
              "  .colab-df-quickchart:hover {\n",
              "    background-color: var(--hover-bg-color);\n",
              "    box-shadow: 0 1px 2px rgba(60, 64, 67, 0.3), 0 1px 3px 1px rgba(60, 64, 67, 0.15);\n",
              "    fill: var(--button-hover-fill-color);\n",
              "  }\n",
              "\n",
              "  .colab-df-quickchart-complete:disabled,\n",
              "  .colab-df-quickchart-complete:disabled:hover {\n",
              "    background-color: var(--disabled-bg-color);\n",
              "    fill: var(--disabled-fill-color);\n",
              "    box-shadow: none;\n",
              "  }\n",
              "\n",
              "  .colab-df-spinner {\n",
              "    border: 2px solid var(--fill-color);\n",
              "    border-color: transparent;\n",
              "    border-bottom-color: var(--fill-color);\n",
              "    animation:\n",
              "      spin 1s steps(1) infinite;\n",
              "  }\n",
              "\n",
              "  @keyframes spin {\n",
              "    0% {\n",
              "      border-color: transparent;\n",
              "      border-bottom-color: var(--fill-color);\n",
              "      border-left-color: var(--fill-color);\n",
              "    }\n",
              "    20% {\n",
              "      border-color: transparent;\n",
              "      border-left-color: var(--fill-color);\n",
              "      border-top-color: var(--fill-color);\n",
              "    }\n",
              "    30% {\n",
              "      border-color: transparent;\n",
              "      border-left-color: var(--fill-color);\n",
              "      border-top-color: var(--fill-color);\n",
              "      border-right-color: var(--fill-color);\n",
              "    }\n",
              "    40% {\n",
              "      border-color: transparent;\n",
              "      border-right-color: var(--fill-color);\n",
              "      border-top-color: var(--fill-color);\n",
              "    }\n",
              "    60% {\n",
              "      border-color: transparent;\n",
              "      border-right-color: var(--fill-color);\n",
              "    }\n",
              "    80% {\n",
              "      border-color: transparent;\n",
              "      border-right-color: var(--fill-color);\n",
              "      border-bottom-color: var(--fill-color);\n",
              "    }\n",
              "    90% {\n",
              "      border-color: transparent;\n",
              "      border-bottom-color: var(--fill-color);\n",
              "    }\n",
              "  }\n",
              "</style>\n",
              "\n",
              "  <script>\n",
              "    async function quickchart(key) {\n",
              "      const quickchartButtonEl =\n",
              "        document.querySelector('#' + key + ' button');\n",
              "      quickchartButtonEl.disabled = true;  // To prevent multiple clicks.\n",
              "      quickchartButtonEl.classList.add('colab-df-spinner');\n",
              "      try {\n",
              "        const charts = await google.colab.kernel.invokeFunction(\n",
              "            'suggestCharts', [key], {});\n",
              "      } catch (error) {\n",
              "        console.error('Error during call to suggestCharts:', error);\n",
              "      }\n",
              "      quickchartButtonEl.classList.remove('colab-df-spinner');\n",
              "      quickchartButtonEl.classList.add('colab-df-quickchart-complete');\n",
              "    }\n",
              "    (() => {\n",
              "      let quickchartButtonEl =\n",
              "        document.querySelector('#df-1c9dc22f-288c-4581-ae35-1777ea69e73c button');\n",
              "      quickchartButtonEl.style.display =\n",
              "        google.colab.kernel.accessAllowed ? 'block' : 'none';\n",
              "    })();\n",
              "  </script>\n",
              "</div>\n",
              "    </div>\n",
              "  </div>\n"
            ],
            "text/plain": [
              "             id                                 title runningTimeInMinutes  \\\n",
              "0     tt6166392                                 Wonka                  116   \n",
              "1    tt16277242                   Society of the Snow                  144   \n",
              "2     tt4460800                           The Kitchen                  107   \n",
              "3     tt6166392                                 Wonka                  116   \n",
              "4    tt16277242                   Society of the Snow                  144   \n",
              "..          ...                                   ...                  ...   \n",
              "198   tt6450804                 Terminator: Dark Fate                  128   \n",
              "199   tt2948356                              Zootopia                  108   \n",
              "200   tt2096673                            Inside Out                   95   \n",
              "201   tt1229238  Mission: Impossible - Ghost Protocol                  132   \n",
              "202   tt0091203                            Highlander                  116   \n",
              "\n",
              "    releaseDate certificate  rating ratingcount  \\\n",
              "0    2023-12-15          PG     7.2       76547   \n",
              "1    2024-01-04           R     7.9       77740   \n",
              "2    2024-01-19           R     4.9        5046   \n",
              "3    2023-12-15          PG     7.2       76547   \n",
              "4    2024-01-04           R     7.9       77740   \n",
              "..          ...         ...     ...         ...   \n",
              "198  2019-11-01           R     6.2      191188   \n",
              "199  2016-03-04          PG     8.0      538260   \n",
              "200  2015-06-19          PG     8.1      772985   \n",
              "201  2011-12-21       PG-13     7.4      524164   \n",
              "202  1986-03-07           R     7.0      145763   \n",
              "\n",
              "                                                  text  \n",
              "0    With dreams of opening a shop in a city renown...  \n",
              "1    The flight of a rugby team crashes on a glacie...  \n",
              "2    In a dystopian future London where all social ...  \n",
              "3    With dreams of opening a shop in a city renown...  \n",
              "4    The flight of a rugby team crashes on a glacie...  \n",
              "..                                                 ...  \n",
              "198  An augmented human and Sarah Connor must stop ...  \n",
              "199  In a city of anthropomorphic animals, a rookie...  \n",
              "200  After young Riley is uprooted from her Midwest...  \n",
              "201  The IMF is shut down when it's implicated in t...  \n",
              "202  An immortal Scottish swordsman must confront t...  \n",
              "\n",
              "[203 rows x 8 columns]"
            ]
          },
          "execution_count": 75,
          "metadata": {},
          "output_type": "execute_result"
        }
      ],
      "source": [
        "df"
      ]
    },
    {
      "cell_type": "markdown",
      "metadata": {
        "id": "zhtFMkjZNnMv"
      },
      "source": [
        "**<font size=\"5\">we can save it in csv</font>**"
      ]
    },
    {
      "cell_type": "code",
      "execution_count": 81,
      "metadata": {
        "id": "qiN5k9dbCslW"
      },
      "outputs": [],
      "source": [
        "df.to_csv('Task-B_movies.csv', index=False)"
      ]
    },
    {
      "cell_type": "code",
      "execution_count": null,
      "metadata": {
        "id": "JIjF76mDCsbu"
      },
      "outputs": [],
      "source": []
    },
    {
      "cell_type": "code",
      "execution_count": null,
      "metadata": {
        "id": "6mGG4_eqOzFX"
      },
      "outputs": [],
      "source": []
    }
  ],
  "metadata": {
    "colab": {
      "provenance": []
    },
    "kernelspec": {
      "display_name": "Python 3",
      "name": "python3"
    },
    "language_info": {
      "name": "python"
    }
  },
  "nbformat": 4,
  "nbformat_minor": 0
}
